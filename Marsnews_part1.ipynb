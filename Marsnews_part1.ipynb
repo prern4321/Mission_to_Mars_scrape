{
 "cells": [
  {
   "cell_type": "markdown",
   "id": "cc4f0469",
   "metadata": {},
   "source": [
    "# Deliverable 1: Scrape Titles and Preview Text from Mars News"
   ]
  },
  {
   "cell_type": "code",
   "execution_count": 12,
   "id": "af125169",
   "metadata": {},
   "outputs": [
    {
     "name": "stdout",
     "output_type": "stream",
     "text": [
      "Requirement already satisfied: splinter in c:\\users\\prern\\anaconda3\\lib\\site-packages (0.18.1)Note: you may need to restart the kernel to use updated packages.\n",
      "\n"
     ]
    }
   ],
   "source": [
    "pip install splinter"
   ]
  },
  {
   "cell_type": "code",
   "execution_count": 13,
   "id": "489ac62f",
   "metadata": {},
   "outputs": [
    {
     "name": "stdout",
     "output_type": "stream",
     "text": [
      "Requirement already satisfied: selenium in c:\\users\\prern\\anaconda3\\lib\\site-packages (4.6.0)\n",
      "Requirement already satisfied: trio~=0.17 in c:\\users\\prern\\anaconda3\\lib\\site-packages (from selenium) (0.22.0)\n",
      "Requirement already satisfied: certifi>=2021.10.8 in c:\\users\\prern\\anaconda3\\lib\\site-packages (from selenium) (2022.9.14)\n",
      "Requirement already satisfied: trio-websocket~=0.9 in c:\\users\\prern\\anaconda3\\lib\\site-packages (from selenium) (0.9.2)\n",
      "Requirement already satisfied: urllib3[socks]~=1.26 in c:\\users\\prern\\anaconda3\\lib\\site-packages (from selenium) (1.26.11)\n",
      "Requirement already satisfied: cffi>=1.14 in c:\\users\\prern\\anaconda3\\lib\\site-packages (from trio~=0.17->selenium) (1.15.1)\n",
      "Requirement already satisfied: async-generator>=1.9 in c:\\users\\prern\\anaconda3\\lib\\site-packages (from trio~=0.17->selenium) (1.10)\n",
      "Requirement already satisfied: sniffio in c:\\users\\prern\\anaconda3\\lib\\site-packages (from trio~=0.17->selenium) (1.2.0)\n",
      "Requirement already satisfied: idna in c:\\users\\prern\\anaconda3\\lib\\site-packages (from trio~=0.17->selenium) (3.3)\n",
      "Requirement already satisfied: exceptiongroup>=1.0.0rc9 in c:\\users\\prern\\anaconda3\\lib\\site-packages (from trio~=0.17->selenium) (1.0.3)\n",
      "Requirement already satisfied: outcome in c:\\users\\prern\\anaconda3\\lib\\site-packages (from trio~=0.17->selenium) (1.2.0)\n",
      "Requirement already satisfied: attrs>=19.2.0 in c:\\users\\prern\\anaconda3\\lib\\site-packages (from trio~=0.17->selenium) (21.4.0)\n",
      "Requirement already satisfied: sortedcontainers in c:\\users\\prern\\anaconda3\\lib\\site-packages (from trio~=0.17->selenium) (2.4.0)\n",
      "Requirement already satisfied: wsproto>=0.14 in c:\\users\\prern\\anaconda3\\lib\\site-packages (from trio-websocket~=0.9->selenium) (1.2.0)\n",
      "Requirement already satisfied: PySocks!=1.5.7,<2.0,>=1.5.6 in c:\\users\\prern\\anaconda3\\lib\\site-packages (from urllib3[socks]~=1.26->selenium) (1.7.1)\n",
      "Requirement already satisfied: pycparser in c:\\users\\prern\\anaconda3\\lib\\site-packages (from cffi>=1.14->trio~=0.17->selenium) (2.21)\n",
      "Requirement already satisfied: h11<1,>=0.9.0 in c:\\users\\prern\\anaconda3\\lib\\site-packages (from wsproto>=0.14->trio-websocket~=0.9->selenium) (0.14.0)\n",
      "Note: you may need to restart the kernel to use updated packages.\n"
     ]
    }
   ],
   "source": [
    "pip install selenium"
   ]
  },
  {
   "cell_type": "code",
   "execution_count": null,
   "id": "2f5ebd82",
   "metadata": {},
   "outputs": [],
   "source": [
    "pip install webdriver_manager"
   ]
  },
  {
   "cell_type": "code",
   "execution_count": 14,
   "id": "1a6e9042",
   "metadata": {},
   "outputs": [
    {
     "data": {
      "text/plain": [
       "'3.8.4'"
      ]
     },
     "execution_count": 14,
     "metadata": {},
     "output_type": "execute_result"
    }
   ],
   "source": [
    "import webdriver_manager\n",
    "webdriver_manager.__version__"
   ]
  },
  {
   "cell_type": "code",
   "execution_count": 15,
   "id": "50b213fd",
   "metadata": {},
   "outputs": [],
   "source": [
    "# importing dependencies\n",
    "from bs4 import BeautifulSoup as bs\n",
    "import pandas as pd\n",
    "from webdriver_manager.chrome import ChromeDriverManager\n",
    "from splinter import Browser"
   ]
  },
  {
   "cell_type": "code",
   "execution_count": 16,
   "id": "bcb46b1d",
   "metadata": {},
   "outputs": [
    {
     "name": "stderr",
     "output_type": "stream",
     "text": [
      "[WDM] - Downloading: 100%|█████████████████████████████████████████████████████████| 6.79M/6.79M [00:20<00:00, 341kB/s]\n"
     ]
    }
   ],
   "source": [
    "# setting up splinter\n",
    "executable_path = {'executable_path': ChromeDriverManager().install()}\n",
    "browser = Browser('chrome', **executable_path, headless=False)"
   ]
  },
  {
   "cell_type": "markdown",
   "id": "1d42ea75",
   "metadata": {},
   "source": [
    "Step 1: Visit the Website\n",
    "\n",
    "Use automated browsing to visit the Mars NASA news site. Inspect the page to identify which elements to scrape.\n",
    "\n",
    "Hint To identify which elements to scrape, you might want to inspect the page by using Chrome DevTools."
   ]
  },
  {
   "cell_type": "code",
   "execution_count": 17,
   "id": "347d65b1",
   "metadata": {},
   "outputs": [],
   "source": [
    "# website URL\n",
    "url = 'https://redplanetscience.com/'\n",
    "browser.visit(url)"
   ]
  },
  {
   "cell_type": "markdown",
   "id": "e71f2129",
   "metadata": {},
   "source": [
    "Step 2: Scrape the Website\n",
    "Create a Beautiful Soup object and use it to extract text elements from the website."
   ]
  },
  {
   "cell_type": "code",
   "execution_count": 18,
   "id": "4ef42bf7",
   "metadata": {},
   "outputs": [],
   "source": [
    "# scraping page into bs\n",
    "html = browser.html\n",
    "soup = bs(html, 'html.parser')"
   ]
  },
  {
   "cell_type": "code",
   "execution_count": 19,
   "id": "ed489146",
   "metadata": {},
   "outputs": [],
   "source": [
    "# examining results\n",
    "results = soup.find_all('div', class_='list_text')"
   ]
  },
  {
   "cell_type": "markdown",
   "id": "bba47d82",
   "metadata": {},
   "source": [
    "Step 3: Store the Results\n",
    "Extract the titles and preview text of the news articles that you scraped. Store the scraping results in Python data structures as follows:\n",
    "\n",
    "Store each title-and-preview pair in a Python dictionary. And, give each dictionary two keys: title and preview. An example is the following:\n",
    "\n",
    "{'title': \"Mars Rover Begins Mission!\", \n",
    "      'preview': \"NASA's Mars Rover begins a multiyear mission to collect data about the little-explored planet.\"}\n",
    "Store all the dictionaries in a Python list.\n",
    "\n",
    "Print the list in your notebook."
   ]
  },
  {
   "cell_type": "code",
   "execution_count": 20,
   "id": "bed7f145",
   "metadata": {},
   "outputs": [],
   "source": [
    "# Create an empty list to store the dictionaries\n",
    "titlelist = []\n",
    "previewpairlist = []"
   ]
  },
  {
   "cell_type": "code",
   "execution_count": 22,
   "id": "a71064af",
   "metadata": {},
   "outputs": [
    {
     "name": "stdout",
     "output_type": "stream",
     "text": [
      "-------------\n",
      "headline: 7 Things to Know About the Mars 2020 Perseverance Rover Mission\n",
      "preview: NASA's next rover to the Red Planet is slated to launch no earlier than July 30. These highlights will get you up to speed on the ambitious mission.\n",
      "-------------\n",
      "headline: NASA Prepares for Moon and Mars With New Addition to Its Deep Space Network\n",
      "preview: Robotic spacecraft will be able to communicate with the dish using radio waves and lasers.\n",
      "-------------\n",
      "headline: NASA Readies Perseverance Mars Rover's Earthly Twin \n",
      "preview: Did you know NASA's next Mars rover has a nearly identical sibling on Earth for testing? Even better, it's about to roll for the first time through a replica Martian landscape.\n",
      "-------------\n",
      "headline: NASA's Curiosity Mars Rover Snaps Its Highest-Resolution Panorama Yet\n",
      "preview: To go along with the stunning 1.8-billion-pixel image, a new video offers a sweeping view of the Red Planet.\n",
      "-------------\n",
      "headline: NASA's Mars 2020 Rover Closer to Getting Its Name\n",
      "preview: 155 students from across the U.S. have been chosen as semifinalists in NASA's essay contest to name the Mars 2020 rover, and see it launch from Cape Canaveral this July.\n",
      "-------------\n",
      "headline: NASA's Perseverance Rover Is Midway to Mars \n",
      "preview: Sometimes half measures can be a good thing – especially on a journey this long. The agency's latest rover only has about 146 million miles left to reach its destination.\n",
      "-------------\n",
      "headline: NASA's Mars 2020 Will Hunt for Microscopic Fossils\n",
      "preview: A new paper identifies a ring of minerals at the rover's landing site that are ideal for fossilizing microbial life.\n",
      "-------------\n",
      "headline: Heat and Dust Help Launch Martian Water Into Space, Scientists Find\n",
      "preview: Scientists using an instrument aboard NASA’s Mars Atmosphere and Volatile EvolutioN, or MAVEN, spacecraft have discovered that water vapor near the surface of the Red Planet is lofted higher into the atmosphere than anyone expected was possible. \n",
      "-------------\n",
      "headline: Two Rovers to Roll on Mars Again: Curiosity and Mars 2020\n",
      "preview: They look like twins. But under the hood, the rover currently exploring the Red Planet and the one launching there this summer have distinct science tools and roles to play.\n",
      "-------------\n",
      "headline: NASA's Curiosity Takes Selfie With 'Mary Anning' on the Red Planet\n",
      "preview: The Mars rover has drilled three samples of rock in this clay-enriched region since arriving in July.\n",
      "-------------\n",
      "headline: AI Is Helping Scientists Discover Fresh Craters on Mars\n",
      "preview: It's the first time machine learning has been used to find previously unknown craters on the Red Planet.\n",
      "-------------\n",
      "headline: NASA Engineers Checking InSight's Weather Sensors\n",
      "preview: An electronics issue is suspected to be preventing the sensors from sharing their data about Mars weather with the spacecraft.\n",
      "-------------\n",
      "headline: Mars 2020 Unwrapped and Ready for More Testing\n",
      "preview: In time-lapse video, bunny-suited engineers remove the inner layer of protective foil on NASA's Mars 2020 rover after it was relocated for testing.\n",
      "-------------\n",
      "headline: NASA Adds Return Sample Scientists to Mars 2020 Leadership Team\n",
      "preview: The leadership council for Mars 2020 science added two new members who represent the interests of scientists destined to handle and study the first samples from Red Planet.\n",
      "-------------\n",
      "headline: NASA's Curiosity Keeps Rolling As Team Operates Rover From Home\n",
      "preview: The team has learned to meet new challenges as they work remotely on the Mars mission.\n"
     ]
    }
   ],
   "source": [
    "\n",
    "\n",
    "# Loop through the text elements\n",
    "# Extract the title and preview text from the elements\n",
    "# Store each title and preview pair in a dictionary\n",
    "# Add the dictionary to the list\n",
    "# Print the list to confirm success\n",
    "\n",
    "# looping through returned lists\n",
    "for result in results:\n",
    "\n",
    "    # getting titles\n",
    "    titles = result.find('div', class_='content_title').text\n",
    "    # getting preview texts\n",
    "    previewpair = result.find('div', class_='article_teaser_body').text\n",
    "\n",
    "    titlelist.append(titles)\n",
    "    previewpairlist.append(previewpair)\n",
    "\n",
    "    print('-------------')\n",
    "    print('headline: ' + str(titles))\n",
    "    print('preview: ' + str(previewpair))"
   ]
  },
  {
   "cell_type": "code",
   "execution_count": null,
   "id": "170fe299",
   "metadata": {},
   "outputs": [],
   "source": [
    "# closing browser\n",
    "browser.quit()"
   ]
  }
 ],
 "metadata": {
  "kernelspec": {
   "display_name": "Python 3 (ipykernel)",
   "language": "python",
   "name": "python3"
  },
  "language_info": {
   "codemirror_mode": {
    "name": "ipython",
    "version": 3
   },
   "file_extension": ".py",
   "mimetype": "text/x-python",
   "name": "python",
   "nbconvert_exporter": "python",
   "pygments_lexer": "ipython3",
   "version": "3.9.13"
  }
 },
 "nbformat": 4,
 "nbformat_minor": 5
}
